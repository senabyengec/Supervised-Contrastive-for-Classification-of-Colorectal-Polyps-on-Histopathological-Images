{
  "cells": [
    {
      "cell_type": "markdown",
      "metadata": {
        "id": "view-in-github",
        "colab_type": "text"
      },
      "source": [
        "<a href=\"https://colab.research.google.com/github/senabyengec/Supervised-Contrastive-for-Classification-of-Colorectal-Polyps-on-Histopathological-Images/blob/main/an_effective_colorectal_polyp_classification_for_histopathological_images_based_on_supervised_contrastive_learning.ipynb\" target=\"_parent\"><img src=\"https://colab.research.google.com/assets/colab-badge.svg\" alt=\"Open In Colab\"/></a>"
      ]
    },
    {
      "cell_type": "markdown",
      "metadata": {
        "id": "DAvsZs9P_8WZ"
      },
      "source": [
        "# An Effective Colorectal Polyp Classification for Histopathological Images Based on Supervised Contrastive Learning\n",
        "\n",
        "**Author:** Sena Yengec-Tasdemir\n",
        "\n",
        "Doi:(under revision)\n",
        "(Last edited: 03/01/2024)\n"
      ]
    },
    {
      "cell_type": "markdown",
      "metadata": {
        "id": "XX2I05z1_8Wb"
      },
      "source": [
        "# Introduction\n",
        "\n",
        "### Overview\n",
        "This notebook presents an implementation of the \"An Effective Colorectal Polyp Classification for Histopathological Images\" article. Our focus is on constructing a [Supervised Contrastive Learning](https://arxiv.org/abs/2004.11362) (Sup-Con) model, specifically designed for classifying colorectal polyps in colon histopathology images.\n",
        "\n",
        "### Model Architecture\n",
        "The proposed model enhances the standard Sup-Con framework with several architectural modifications. Key among these is the integration of the Big Transfer (BiT) encoder. We further refine the model in a second stage by introducing an intricate sequence of layers, including dropout layers and a fully connected layer equipped with L2 kernel regularizers. The architecture culminates in a softmax layer for final classification.\n",
        "\n",
        "### Optimization and Loss Function\n",
        "For optimization, we employ Stochastic Gradient Descent (SGD), carefully calibrated with an optimal learning rate and momentum. The model's robustness and accuracy are further boosted by our choice of loss function: categorical cross-entropy with label smoothing. This choice not only enhances prediction accuracy but also improves the model's adaptability in various scenarios.\n",
        "\n",
        "Dependencies\n",
        "This implementation requires TensorFlow Addons, which can be installed via pip:\n",
        "\n",
        "pip install tensorflow-addons\n"
      ]
    },
    {
      "cell_type": "markdown",
      "source": [
        "### Requirements\n",
        "*   The dataset need to be uploaded to Google Drive folder. The following paths need to be updated accordingly.\n",
        "*   Wandb is used for plots. One needs to either have a Wandb account or remove those lines of code."
      ],
      "metadata": {
        "id": "joDcbhiWQ4SX"
      }
    },
    {
      "cell_type": "code",
      "source": [
        "!pip install tensorflow-addons"
      ],
      "metadata": {
        "id": "7BNSLihnNxLw"
      },
      "execution_count": null,
      "outputs": []
    },
    {
      "cell_type": "code",
      "source": [
        "# install TF addons if needed\n",
        "try:\n",
        "    import tensorflow_addons as tfa  # main package\n",
        "except ModuleNotFoundError:\n",
        "    !pip install tensorflow-addons\n",
        "    import tensorflow_addons as tfa"
      ],
      "metadata": {
        "colab": {
          "base_uri": "https://localhost:8080/"
        },
        "id": "m5x7MI_CCr4S",
        "outputId": "b199cabe-f147-4c26-f337-2d72e9b0ab41"
      },
      "execution_count": null,
      "outputs": [
        {
          "output_type": "stream",
          "name": "stdout",
          "text": [
            "Looking in indexes: https://pypi.org/simple, https://us-python.pkg.dev/colab-wheels/public/simple/\n",
            "Collecting tensorflow-addons\n",
            "  Downloading tensorflow_addons-0.17.1-cp37-cp37m-manylinux_2_17_x86_64.manylinux2014_x86_64.whl (1.1 MB)\n",
            "\u001b[K     |████████████████████████████████| 1.1 MB 12.2 MB/s \n",
            "\u001b[?25hRequirement already satisfied: typeguard>=2.7 in /usr/local/lib/python3.7/dist-packages (from tensorflow-addons) (2.7.1)\n",
            "Requirement already satisfied: packaging in /usr/local/lib/python3.7/dist-packages (from tensorflow-addons) (21.3)\n",
            "Requirement already satisfied: pyparsing!=3.0.5,>=2.0.2 in /usr/local/lib/python3.7/dist-packages (from packaging->tensorflow-addons) (3.0.9)\n",
            "Installing collected packages: tensorflow-addons\n",
            "Successfully installed tensorflow-addons-0.17.1\n"
          ]
        }
      ]
    },
    {
      "cell_type": "code",
      "execution_count": null,
      "metadata": {
        "id": "17TAW_Nd_8Wc"
      },
      "outputs": [],
      "source": [
        "import tensorflow as tf\n",
        "import tensorflow_addons as tfa\n",
        "import numpy as np\n",
        "from tensorflow import keras\n",
        "from tensorflow.keras import layers\n",
        "import tensorflow as tf\n",
        "import tensorflow_datasets as tfds\n",
        "import tensorflow_hub as hub\n"
      ]
    },
    {
      "cell_type": "code",
      "source": [
        "!pip install wandb\n",
        "!wandb login"
      ],
      "metadata": {
        "id": "gRTeCNLXW8eQ"
      },
      "execution_count": null,
      "outputs": []
    },
    {
      "cell_type": "markdown",
      "metadata": {
        "id": "yTY8qzyYv3vl"
      },
      "source": [
        "## Set up the  dataset\n"
      ]
    },
    {
      "cell_type": "code",
      "source": [
        "from google.colab import drive\n",
        "from pathlib import Path\n",
        "import os\n",
        "drive.mount('/content/drive')"
      ],
      "metadata": {
        "id": "Q2INTA2MDSfo",
        "colab": {
          "base_uri": "https://localhost:8080/"
        },
        "outputId": "812ed8e3-127b-4d95-dbb4-0132fb6ec884"
      },
      "execution_count": null,
      "outputs": [
        {
          "output_type": "stream",
          "name": "stdout",
          "text": [
            "Mounted at /content/drive\n"
          ]
        }
      ]
    },
    {
      "cell_type": "markdown",
      "source": [
        "### Choose dataset to work with\n",
        "In here, we are experimenting on the same dataset with different normalization methods.\n",
        "\n"
      ],
      "metadata": {
        "id": "WMquJC0OSn9D"
      }
    },
    {
      "cell_type": "markdown",
      "source": [
        "The structure of the Datasets:\n",
        "\n",
        "    path/to/image_dir/\n",
        "    split_name/  # Ex: 'train'\n",
        "    label1/  # Ex: 'adenom' or 'nonAdenom'\n",
        "      xxx.png\n",
        "      xxy.png\n",
        "      xxz.png\n",
        "    label2/\n",
        "      xxx.png\n",
        "      xxy.png\n",
        "      xxz.png\n",
        "    split_name/  # Ex: 'val'\n",
        "    ...\n",
        "    split_name/  # Ex: 'test'\n",
        "    ..."
      ],
      "metadata": {
        "id": "siM7pBNJS9IG"
      }
    },
    {
      "cell_type": "code",
      "execution_count": null,
      "metadata": {
        "id": "wnyrtaSEdeM0"
      },
      "outputs": [],
      "source": [
        "dataset_name = \"custom_ds_3_class\" # @param [\"custom_ds_3_class\",\"clahe\",'stain-net','public', 'vanilla', 'stain-gan', 'reinhard', 'macenko', 'vahande']\n",
        "\n",
        "dateset_handle_map = {\n",
        "  \"stain-net\": \"/content/drive/MyDrive/histo/labeled_stainet_normalized_train_test_val/\",\n",
        "  \"public\" : \"/content/drive/MyDrive/histo/UnitoPatho/\",\n",
        "  \"stain-gan\": \"/content/drive/MyDrive/histo/labeled_staingan_normalized_train_test_val/\",\n",
        "  \"reinhard\": \"/content/drive/MyDrive/histo/labeled_reinhard_normalized_train_test_val/\",\n",
        "  \"macenko\": \"/content/drive/MyDrive/histo/labeled_macenko_normalized_train_test_val/\",\n",
        "  \"vahande\": \"/content/drive/MyDrive/histo/labeled_vahande_normalized_train_test_val/\",\n",
        "  \"clahe\" : \"/content/drive/MyDrive/histo/labeled_clahe_normalized_train_test_val/\",\n",
        "  \"custom_ds_3_class\": \"/content/drive/MyDrive/histo/custom_ds_3_class_train_test_val/\",\n",
        "}\n",
        "dataset_handle = dateset_handle_map.get(dataset_name)\n",
        "path_data = Path(dataset_handle)\n",
        "dest = path_data\n",
        "data_dir = path_data"
      ]
    },
    {
      "cell_type": "code",
      "execution_count": null,
      "metadata": {
        "id": "v2j-td-Aff60",
        "colab": {
          "base_uri": "https://localhost:8080/",
          "height": 35
        },
        "outputId": "09e0d842-374d-467d-ef86-a11e4f73e35d"
      },
      "outputs": [
        {
          "output_type": "execute_result",
          "data": {
            "text/plain": [
              "'/content/drive/MyDrive/PHD/tez/histo/cropped_after_labeling_val_eliminated/'"
            ],
            "application/vnd.google.colaboratory.intrinsic+json": {
              "type": "string"
            }
          },
          "metadata": {},
          "execution_count": 5
        }
      ],
      "source": [
        "dataset_handle"
      ]
    },
    {
      "cell_type": "code",
      "execution_count": null,
      "metadata": {
        "id": "WBtFK1hO8KsO"
      },
      "outputs": [],
      "source": [
        "dest = path_data\n",
        "data_dir = path_data\n",
        "BATCH_SIZE = 16\n",
        "IMG_SIZE = 224\n",
        "IMAGE_SIZE = (IMG_SIZE,IMG_SIZE)\n",
        "input_shape = (IMG_SIZE, IMG_SIZE, 3)"
      ]
    },
    {
      "cell_type": "code",
      "execution_count": null,
      "metadata": {
        "id": "umB5tswsfTEQ"
      },
      "outputs": [],
      "source": [
        "def build_dataset(subset, data_dir):\n",
        "  return tf.keras.preprocessing.image_dataset_from_directory(\n",
        "      data_dir,\n",
        "      label_mode=\"categorical\",\n",
        "      # Seed needs to provided when using validation_split and shuffle = True.\n",
        "      # A fixed seed is used so that the validation set is stable across runs.\n",
        "      seed=123,\n",
        "      image_size=IMAGE_SIZE,\n",
        "      batch_size=1)\n",
        "train_ds_path = os.path.join(data_dir, \"train\")\n",
        "train_ds = build_dataset(\"training\", train_ds_path)\n",
        "class_names = tuple(train_ds.class_names)\n",
        "train_size = train_ds.cardinality().numpy()\n",
        "train_ds = train_ds.unbatch().batch(BATCH_SIZE)\n",
        "train_ds = train_ds.repeat()\n",
        "#For vit rescale between -1,1 for cnn 0,1, ViT: scale=1./127.5, offset=-1\n",
        "normalization_layer = tf.keras.layers.Rescaling(scale=1./255)\n",
        "#normalization_layer = tf.keras.layers.Rescaling(scale=1./127.5,offset=-1)\n",
        "preprocessing_model = tf.keras.Sequential([normalization_layer])\n",
        "do_data_augmentation = True #@param {type:\"boolean\"}\n",
        "if do_data_augmentation:\n",
        "  preprocessing_model.add(\n",
        "      tf.keras.layers.RandomRotation(40))\n",
        "  preprocessing_model.add(\n",
        "      tf.keras.layers.RandomTranslation(0, 0.2))\n",
        "  preprocessing_model.add(\n",
        "      tf.keras.layers.RandomTranslation(0.2, 0))\n",
        "  # Like the old tf.keras.preprocessing.image.ImageDataGenerator(),\n",
        "  # image sizes are fixed when reading, and then a random zoom is applied.\n",
        "  # If all training inputs are larger than image_size, one could also use\n",
        "  # RandomCrop with a batch size of 1 and rebatch later.\n",
        "  preprocessing_model.add(\n",
        "      tf.keras.layers.RandomFlip(mode=\"horizontal\"))\n",
        "\n",
        "train_ds = train_ds.map(lambda images, labels:\n",
        "                        (preprocessing_model(images), labels))\n",
        "\n",
        "val_ds_path= os.path.join(data_dir, 'val')\n",
        "val_ds_1 = build_dataset(\"validation\",val_ds_path)\n",
        "valid_size = val_ds_1.cardinality().numpy()\n",
        "val_ds_1 = val_ds_1.unbatch().batch(BATCH_SIZE)\n",
        "val_ds = val_ds_1.map(lambda images, labels:\n",
        "                    (normalization_layer(images), labels))\n",
        "\n",
        "test_ds_path= os.path.join(data_dir, 'test')\n",
        "test_ds_1 = build_dataset(\"test\",val_ds_path)\n",
        "test_size = test_ds_1.cardinality().numpy()\n",
        "test_ds_1 = test_ds_1.unbatch().batch(BATCH_SIZE)\n",
        "test_ds = test_ds_1.map(lambda images, labels:\n",
        "                    (normalization_layer(images), labels))\n",
        "\n",
        "\n",
        "num_classes = len(class_names)"
      ]
    },
    {
      "cell_type": "markdown",
      "source": [
        "Plot a sample image from the validation set"
      ],
      "metadata": {
        "id": "LNExBphRTKuj"
      }
    },
    {
      "cell_type": "code",
      "execution_count": null,
      "metadata": {
        "colab": {
          "base_uri": "https://localhost:8080/",
          "height": 269
        },
        "id": "8Pfi-Q5tal8t",
        "outputId": "51908687-98f9-4770-eeef-95a5e1ac2c17"
      },
      "outputs": [
        {
          "output_type": "display_data",
          "data": {
            "text/plain": [
              "<Figure size 432x288 with 1 Axes>"
            ],
            "image/png": "[encoded data removed]"
          },
          "metadata": {
            "needs_background": "light"
          }
        }
      ],
      "source": [
        "import matplotlib.pylab as plt\n",
        "import numpy as np\n",
        "x, y = next(iter(val_ds))\n",
        "img = x[2, :, :, :]\n",
        "\n",
        "plt.imshow(img)\n",
        "plt.show()\n"
      ]
    },
    {
      "cell_type": "markdown",
      "metadata": {
        "id": "BGCWBxVV_8We"
      },
      "source": [
        "Including image data augmentation for stage 1 of Sup-Con"
      ]
    },
    {
      "cell_type": "code",
      "execution_count": null,
      "metadata": {
        "id": "MqGS6MEN_8We"
      },
      "outputs": [],
      "source": [
        "data_augmentation = keras.Sequential(\n",
        "    [\n",
        "        layers.Normalization(),\n",
        "        layers.RandomFlip(\"horizontal\"),\n",
        "        layers.RandomRotation(0.02),\n",
        "        layers.RandomWidth(0.2),\n",
        "        layers.RandomHeight(0.2),\n",
        "    ]\n",
        ")\n",
        "\n"
      ]
    },
    {
      "cell_type": "markdown",
      "metadata": {
        "id": "8l_AwFU-_8Wf"
      },
      "source": [
        "## Build the encoder model\n",
        "\n",
        "The encoder model takes the image as input and turns it into a 2048-dimensional\n",
        "feature vector."
      ]
    },
    {
      "cell_type": "code",
      "execution_count": null,
      "metadata": {
        "id": "RtHQFwh-_8Wg",
        "colab": {
          "base_uri": "https://localhost:8080/"
        },
        "outputId": "c4977b0e-226a-4fae-efd7-ea129f191075"
      },
      "outputs": [
        {
          "output_type": "stream",
          "name": "stdout",
          "text": [
            "Model: \"sequential_2\"\n",
            "_________________________________________________________________\n",
            " Layer (type)                Output Shape              Param #   \n",
            "=================================================================\n",
            " keras_layer (KerasLayer)    (None, 2048)              23500352  \n",
            "                                                                 \n",
            "=================================================================\n",
            "Total params: 23,500,352\n",
            "Trainable params: 23,500,352\n",
            "Non-trainable params: 0\n",
            "_________________________________________________________________\n"
          ]
        }
      ],
      "source": [
        "def create_encoder():\n",
        "    \"\"\"\n",
        "    resnet = keras.applications.ResNet50V2(\n",
        "        include_top=False, weights='imagenet', input_shape=input_shape, pooling=\"avg\"\n",
        "    )\n",
        "    \"\"\"\n",
        "    model = tf.keras.Sequential([\n",
        "        tf.keras.layers.InputLayer(input_shape=IMAGE_SIZE + (3,)),\n",
        "        hub.KerasLayer(\"https://tfhub.dev/google/bit/m-r50x1/1\", trainable=True)])\n",
        "    model.build((None,)+IMAGE_SIZE+(3,))\n",
        "    return model\n",
        "\n",
        "\n",
        "encoder = create_encoder()\n",
        "encoder.summary()\n",
        "\n",
        "learning_rate = 0.001\n",
        "batch_size = 16\n",
        "hidden_units = 512\n",
        "projection_units = 128\n",
        "num_epochs = 2\n",
        "dropout_rate = 0.1\n",
        "temperature = 0.05\n"
      ]
    },
    {
      "cell_type": "markdown",
      "metadata": {
        "id": "QoZpe1dJ_8Wg"
      },
      "source": [
        "## Build the classification model\n",
        "\n",
        "The classification model adds a fully-connected layer on top of the encoder,\n",
        "plus a softmax layer with the target classes."
      ]
    },
    {
      "cell_type": "code",
      "execution_count": null,
      "metadata": {
        "id": "pG1c7cUr_8Wh"
      },
      "outputs": [],
      "source": [
        "def create_classifier(encoder, trainable=True):\n",
        "  for layer in encoder.layers:\n",
        "    layer.trainable = trainable\n",
        "    model = tf.keras.Sequential([\n",
        "      tf.keras.layers.InputLayer(input_shape=IMAGE_SIZE + (3,)),\n",
        "      encoder,\n",
        "      tf.keras.layers.Dropout(rate=0.1),\n",
        "      tf.keras.layers.Dense(hidden_units, activation=\"relu\",kernel_regularizer=tf.keras.regularizers.l2(0.0001)),\n",
        "      tf.keras.layers.Dropout(rate=0.1),\n",
        "      layers.Dense(len(class_names),kernel_regularizer=tf.keras.regularizers.l2(0.0001))])\n",
        "  model.build((None,)+IMAGE_SIZE+(3,))\n",
        "  model.compile(\n",
        "      optimizer=tf.keras.optimizers.SGD(learning_rate=0.001, momentum=0.9), loss=tf.keras.losses.CategoricalCrossentropy(from_logits=True, label_smoothing=0.1),\n",
        "      metrics=['accuracy', tf.keras.metrics.CategoricalCrossentropy(name=\"categorical_crossentropy\", from_logits=True, label_smoothing=0.1)])\n",
        "  return model\n"
      ]
    },
    {
      "cell_type": "markdown",
      "metadata": {
        "id": "ZGcWQm6t_8Wh"
      },
      "source": [
        "## Experiment 1: Supervised Learning-Based Baseline Classifier Training\n",
        "\n",
        "This experiment focuses on training a baseline classifier using Supervised Learning. In this approach, both the encoder and classifier components are integrated into a unified model. The primary objective is to minimize the cross-entropy loss during the training process."
      ]
    },
    {
      "cell_type": "code",
      "source": [
        "encoder = create_encoder()\n",
        "classifier = create_classifier(encoder)\n",
        "classifier.summary()"
      ],
      "metadata": {
        "colab": {
          "base_uri": "https://localhost:8080/"
        },
        "id": "BHEw9xF3p3s8",
        "outputId": "63815fc7-3985-4e24-a85c-e49bfff82ad3"
      },
      "execution_count": null,
      "outputs": [
        {
          "output_type": "stream",
          "name": "stdout",
          "text": [
            "Model: \"sequential_4\"\n",
            "_________________________________________________________________\n",
            " Layer (type)                Output Shape              Param #   \n",
            "=================================================================\n",
            " sequential_3 (Sequential)   (None, 2048)              23500352  \n",
            "                                                                 \n",
            " dropout (Dropout)           (None, 2048)              0         \n",
            "                                                                 \n",
            " dense (Dense)               (None, 512)               1049088   \n",
            "                                                                 \n",
            " dropout_1 (Dropout)         (None, 512)               0         \n",
            "                                                                 \n",
            " dense_1 (Dense)             (None, 3)                 1539      \n",
            "                                                                 \n",
            "=================================================================\n",
            "Total params: 24,550,979\n",
            "Trainable params: 24,550,979\n",
            "Non-trainable params: 0\n",
            "_________________________________________________________________\n"
          ]
        }
      ]
    },
    {
      "cell_type": "code",
      "execution_count": null,
      "metadata": {
        "id": "0GwXOwGz_8Wh"
      },
      "outputs": [],
      "source": [
        "steps_per_epoch = train_size // BATCH_SIZE\n",
        "validation_steps = valid_size // BATCH_SIZE\n",
        "do_class_weighting = False #@param {type:\"boolean\"}\n",
        "checkpoint_filepath = '/content/drive/MyDrive/best_model_check_point/'\n",
        "#checkpoint = ModelCheckpoint('model-{epoch:03d}-{acc:03f}-{val_acc:03f}.h5', verbose=1, monitor='val_loss',save_best_only=True, mode='auto')\n",
        "model_checkpoint_callback = tf.keras.callbacks.ModelCheckpoint(\n",
        "    filepath=checkpoint_filepath,save_weights_only = True,\n",
        "    monitor='val_accuracy',mode='max',save_best_only=True)\n",
        "\n",
        "if do_class_weighting:\n",
        "  neg, pos, pos1 = 125, 321, 84 #[446, 2881, 2250]\n",
        "  total = neg + pos + pos1\n",
        "  weight_for_0 = (total) / (len(class_names) * neg)\n",
        "  weight_for_1 = (total) / (len(class_names) * pos)\n",
        "  weight_for_2 = (total) / (len(class_names) * pos1)\n",
        "\n",
        "  #n_samples / (n_classes * np.bincount(y))\n",
        "  #weight_for_2 = (1 / pos1) * (total / 2.0)\n",
        "  class_weight = {0: weight_for_0, 1: weight_for_1, 2: weight_for_2,}\n",
        "  print('Weight for class 0: {:.2f}'.format(weight_for_0))\n",
        "  print('Weight for class 1: {:.2f}'.format(weight_for_1))\n",
        "  print('Weight for class 2: {:.2f}'.format(weight_for_2))\n",
        "  hist = classifier.fit(\n",
        "      train_ds,\n",
        "      epochs=2, steps_per_epoch=steps_per_epoch,\n",
        "      validation_data=val_ds,\n",
        "      validation_steps=validation_steps, class_weight=class_weight)\n",
        "else:\n",
        "  hist = classifier.fit(\n",
        "      train_ds,\n",
        "      epochs=10, steps_per_epoch=steps_per_epoch,\n",
        "      validation_data=val_ds,\n",
        "      validation_steps=validation_steps)#, callbacks=[model_checkpoint_callback]) #, callbacks=[WandbCallback()])\n",
        "      # validation_steps=validation_steps, callbacks=[WandbCallback(),model_checkpoint_callback])\n",
        "      #to save the best model and use it in the next stes uncomment the code above\n"
      ]
    },
    {
      "cell_type": "markdown",
      "metadata": {
        "id": "-BEL9Ohv_8Wi"
      },
      "source": [
        "## Experiment 2: Two-Phase Training of the Proposed Sup-Con Model\n",
        "\n",
        "This experiment involves a two-stage training process for the proposed Sup-Con model.\n",
        "\n",
        "### Phase 1: Pretraining the Encoder\n",
        "Initially, the BiT encoder is pretrained, focusing on optimizing the supervised contrastive loss. This approach is based on the methodology described by [Prannay Khosla et al.](https://arxiv.org/abs/2004.11362), detailed in their research.\n",
        "\n",
        "### Phase 2: Enhanced Classifier Training with a Frozen Encoder\n",
        "In the second phase, the classifier is trained using the pretrained encoder, whose weights are frozen to preserve their optimized state. During this phase, the model undergoes further refinement with an elaborate sequence of layers, including dropout layers and a fully connected layer equipped with L2 kernel regularizers, culminating in a softmax layer for final classification. Here, the training focuses exclusively on optimizing the weights of the fully-connected layers and the softmax layer.\n",
        "\n",
        "Optimization and Loss Function\n",
        "For optimization, Stochastic Gradient Descent (SGD) is employed, precisely calibrated with an optimal learning rate and momentum. The robustness and accuracy of the model are significantly enhanced by our choice of loss function: categorical cross-entropy with label smoothing. This choice not only augments prediction accuracy but also bolsters the model's adaptability in histopathology images."
      ]
    },
    {
      "cell_type": "code",
      "source": [
        "class SupervisedContrastiveLoss(keras.losses.Loss):\n",
        "    def __init__(self, temperature=1, name=None):\n",
        "        super(SupervisedContrastiveLoss, self).__init__(name=name)\n",
        "        self.temperature = temperature\n",
        "\n",
        "    def __call__(self, labels, feature_vectors, sample_weight=None):\n",
        "        # Normalize feature vectors\n",
        "        labels = tf.argmax(labels, axis=1)\n",
        "        feature_vectors_normalized = tf.math.l2_normalize(feature_vectors, axis=1)\n",
        "        # Compute logits\n",
        "        logits = tf.divide(\n",
        "            tf.matmul(\n",
        "                feature_vectors_normalized, tf.transpose(feature_vectors_normalized)\n",
        "            ),\n",
        "            self.temperature,\n",
        "        )\n",
        "        return tfa.losses.npairs_loss(tf.squeeze(labels), logits)\n",
        "\n",
        "\n",
        "def add_projection_head(encoder):\n",
        "    model = tf.keras.Sequential([\n",
        "        tf.keras.layers.InputLayer(input_shape=IMAGE_SIZE + (3,)),\n",
        "        encoder,\n",
        "        tf.keras.layers.Dense(projection_units, activation=\"relu\",kernel_regularizer=tf.keras.regularizers.l2(0.0001))])\n",
        "    model.build((None,)+IMAGE_SIZE+(3,))\n",
        "    return model\n"
      ],
      "metadata": {
        "id": "6LozgpqSqO_k"
      },
      "execution_count": null,
      "outputs": []
    },
    {
      "cell_type": "markdown",
      "metadata": {
        "id": "L7fCYCwq_8Wi"
      },
      "source": [
        "### 2. Pretrain the encoder"
      ]
    },
    {
      "cell_type": "code",
      "execution_count": null,
      "metadata": {
        "id": "d1qRCzZl_8Wi"
      },
      "outputs": [],
      "source": [
        "steps_per_epoch = train_size // BATCH_SIZE\n",
        "validation_steps = valid_size // BATCH_SIZE\n",
        "encoder = create_encoder()\n",
        "encoder_with_projection_head = add_projection_head(encoder)\n",
        "encoder_with_projection_head.compile(\n",
        "    optimizer=tf.keras.optimizers.SGD(learning_rate=0.001, momentum=0.9),\n",
        "    loss=SupervisedContrastiveLoss(temperature))\n",
        "\n",
        "\n",
        "encoder_with_projection_head.summary()\n",
        "\n",
        "history = encoder_with_projection_head.fit(\n",
        "      train_ds,\n",
        "      epochs=100, steps_per_epoch=steps_per_epoch,\n",
        "      validation_data=val_ds,\n",
        "      validation_steps=validation_steps)"
      ]
    },
    {
      "cell_type": "markdown",
      "metadata": {
        "id": "ziV6rpXY_8Wk"
      },
      "source": [
        "### 3. Train the classifier with the frozen encoder"
      ]
    },
    {
      "cell_type": "code",
      "source": [
        "import wandb\n",
        "from wandb.keras import WandbCallback\n",
        "\n",
        "\n",
        "wandb.config = {\n",
        "  \"dataset\" : dataset_name,\n",
        "  \"model_architecture\" : \"bit_sup_con\",\n",
        "  \"fine_tune\" : True,\n",
        "  \"epochs\": 100,\n",
        "  \"batch_size\": BATCH_SIZE\n",
        "}\n",
        "wandb.init(config=wandb.config)\n"
      ],
      "metadata": {
        "id": "QmLW0_DcXIo4"
      },
      "execution_count": null,
      "outputs": []
    },
    {
      "cell_type": "code",
      "execution_count": null,
      "metadata": {
        "id": "WLTUnNRP_8Wk"
      },
      "outputs": [],
      "source": [
        "classifier = create_classifier(encoder, trainable=False)\n",
        "\n",
        "hist = classifier.fit(\n",
        "      train_ds,\n",
        "      epochs=100, steps_per_epoch=steps_per_epoch,\n",
        "      validation_data=val_ds,\n",
        "      validation_steps=validation_steps)\n",
        "\n",
        "accuracy = classifier.evaluate(test_ds)[1]\n",
        "print(f\"Test accuracy: {round(accuracy * 100, 2)}%\")"
      ]
    },
    {
      "cell_type": "markdown",
      "metadata": {
        "id": "t96zv7mq_8Wk"
      },
      "source": [
        "We get to an improved test accuracy."
      ]
    },
    {
      "cell_type": "markdown",
      "source": [
        "## Run this only for BiT with Sup-Con since it cannot use the WandB callbacks during fit"
      ],
      "metadata": {
        "id": "Qh1ynLntXy4P"
      }
    },
    {
      "cell_type": "code",
      "source": [
        "num_steps = hist.params['epochs']\n",
        "xs = [ i for i in range(num_steps) ]\n",
        "#wandb.log({'loss': 0.2}, step=step)\n",
        "\n",
        "#wandb.log({\"loss1\": hist.history['loss']},  step=num_steps)\n",
        "for i in xs:\n",
        "  log_dict = {\n",
        "      \"loss\": hist.history['loss'][i],\n",
        "      \"epoch\": i,\n",
        "  }\n",
        "  wandb.log(log_dict)\n",
        "\n",
        "for i in xs:\n",
        "  log_dict = {\n",
        "      \"val_loss\": hist.history['val_loss'][i],\n",
        "      \"epoch\": i,\n",
        "  }\n",
        "  wandb.log(log_dict)\n",
        "\n",
        "\n",
        "for i in xs:\n",
        "  log_dict = {\n",
        "      \"accuracy\": hist.history['accuracy'][i],\n",
        "      \"epoch\": i,\n",
        "  }\n",
        "  wandb.log(log_dict)\n",
        "\n",
        "for i in xs:\n",
        "  log_dict = {\n",
        "      \"val_accuracy\": hist.history['val_accuracy'][i],\n",
        "      \"epoch\": i,\n",
        "  }\n",
        "  wandb.log(log_dict)\n"
      ],
      "metadata": {
        "id": "KwLf3UAeXuZU"
      },
      "execution_count": null,
      "outputs": []
    },
    {
      "cell_type": "markdown",
      "metadata": {
        "id": "2WasZlZQzXrh"
      },
      "source": [
        "Confusion Martix\n",
        "\n",
        "\n",
        "---\n",
        "\n"
      ]
    },
    {
      "cell_type": "code",
      "execution_count": null,
      "metadata": {
        "colab": {
          "base_uri": "https://localhost:8080/",
          "height": 71
        },
        "id": "CHzSpL7PzXrj",
        "outputId": "a34baeea-1140-42e3-8059-ffeb7b3a0eb5"
      },
      "outputs": [
        {
          "output_type": "execute_result",
          "data": {
            "text/plain": [
              "'wandb.log({\"conf_mat\" : wandb.plot.confusion_matrix(probs=None,\\n                        preds=top_pred_ids, y_true=ground_truth_class_ids,\\n                        class_names=flat_class_names)})'"
            ],
            "application/vnd.google.colaboratory.intrinsic+json": {
              "type": "string"
            }
          },
          "metadata": {},
          "execution_count": 159
        }
      ],
      "source": [
        "##The confusion matrix\n",
        "\n",
        "flat_class_names = [k for k in class_names]\n",
        "test_ds, test_labels = next(iter(test_ds))\n",
        "test_ds, test_labels = zip(*((x,y) for x,y in val_ds))\n",
        "test_ds, test_labels = np.vstack(test_ds), np.vstack(test_labels)\n",
        "\n",
        "test_predictions = ensemble_model.predict(test_ds)\n",
        "ground_truth_class_ids = test_labels.argmax(axis=1)\n",
        "# take the argmax for each set of prediction scores\n",
        "# to return the class id of the highest confidence prediction\n",
        "top_pred_ids = test_predictions.argmax(axis=1)\n",
        "\n",
        "# Log confusion matrix\n",
        "# the key \"conf_mat\" is the id of the plot--do not change\n",
        "# this if you want subsequent runs to show up on the same plot\n",
        "\"\"\"wandb.log({\"conf_mat\" : wandb.plot.confusion_matrix(probs=None,\n",
        "                        preds=top_pred_ids, y_true=ground_truth_class_ids,\n",
        "                        class_names=flat_class_names)})\"\"\""
      ]
    },
    {
      "cell_type": "code",
      "execution_count": null,
      "metadata": {
        "colab": {
          "base_uri": "https://localhost:8080/"
        },
        "id": "xaKUH0XSzXrj",
        "outputId": "2d4fd8f6-9f5d-4a0d-b73a-7aee67269785"
      },
      "outputs": [
        {
          "output_type": "execute_result",
          "data": {
            "text/plain": [
              "<tf.Tensor: shape=(1,), dtype=int32, numpy=array([208], dtype=int32)>"
            ]
          },
          "metadata": {},
          "execution_count": 160
        }
      ],
      "source": [
        "tf.shape(ground_truth_class_ids)"
      ]
    },
    {
      "cell_type": "code",
      "execution_count": null,
      "metadata": {
        "id": "e2ewR9ADzXrj"
      },
      "outputs": [],
      "source": [
        "# ROC\n",
        "wandb.log({\"roc\" : wandb.plot.roc_curve(ground_truth_class_ids, test_predictions, labels=flat_class_names, classes_to_plot=None)})\n"
      ]
    },
    {
      "cell_type": "code",
      "execution_count": null,
      "metadata": {
        "id": "vDXI_YHEzXrj"
      },
      "outputs": [],
      "source": [
        "wandb.log({\"roc_curve\" : wandb.plot.roc_curve(ground_truth_class_ids, test_predictions, labels=flat_class_names)})"
      ]
    },
    {
      "cell_type": "code",
      "execution_count": null,
      "metadata": {
        "id": "OvN-5X7AzXrk"
      },
      "outputs": [],
      "source": [
        "# ROC\n",
        "wandb.log({\"pr\" : wandb.plot.pr_curve(ground_truth_class_ids, test_predictions,labels=flat_class_names, classes_to_plot=None)})"
      ]
    },
    {
      "cell_type": "code",
      "execution_count": null,
      "metadata": {
        "id": "YAOmvILdzXrk"
      },
      "outputs": [],
      "source": [
        "# Learning Curve\n",
        "#wandb.sklearn.plot_learning_curve(nb, X_test, y_test)\n",
        "\n",
        "y_pred = top_pred_ids.reshape(1,-1)\n",
        "y_test = ground_truth_class_ids.reshape(1,-1)\n",
        "# Confusion Matrix\n",
        "#wandb.sklearn.plot_confusion_matrix(y_test.argmax(axis=1), y_pred.argmax(axis=1), labels=flat_class_names)"
      ]
    },
    {
      "cell_type": "code",
      "execution_count": null,
      "metadata": {
        "id": "Tio6KIQxzXrk"
      },
      "outputs": [],
      "source": [
        "wandb.sklearn.plot_confusion_matrix(top_pred_ids, ground_truth_class_ids, labels=flat_class_names)"
      ]
    },
    {
      "cell_type": "code",
      "execution_count": null,
      "metadata": {
        "id": "voUTE_yozXrk"
      },
      "outputs": [],
      "source": [
        "from sklearn.metrics import confusion_matrix, ConfusionMatrixDisplay\n",
        "import matplotlib.pyplot as plt\n",
        "\n",
        "cm = confusion_matrix(top_pred_ids, ground_truth_class_ids)\n",
        "disp = ConfusionMatrixDisplay(confusion_matrix=cm,display_labels=flat_class_names)\n",
        "disp.plot()\n",
        "plt.show()\n",
        "#wandb.log({'heatmap_with_text': wandb.plots.HeatMap(flat_class_names, flat_class_names, cm, show_text=False)})\n"
      ]
    },
    {
      "cell_type": "markdown",
      "source": [
        "## Continue as usual"
      ],
      "metadata": {
        "id": "valBBnEIY7mr"
      }
    },
    {
      "cell_type": "code",
      "execution_count": null,
      "metadata": {
        "id": "3hUcpaZBPVFu"
      },
      "outputs": [],
      "source": [
        "accuracy = classifier.evaluate(test_ds)[1]\n",
        "print(f\"Test accuracy: {round(accuracy * 100, 2)}%\")\n",
        "\n",
        "flat_class_names = [k for k in class_names]\n",
        "test_data, test_labels = next(iter(test_ds))\n",
        "test_data, test_labels = zip(*((x,y) for x,y in test_ds))\n",
        "test_data, test_labels = np.vstack(test_data), np.vstack(test_labels)\n",
        "\n",
        "test_predictions = classifier.predict(test_data)\n",
        "ground_truth_class_ids = test_labels.argmax(axis=1)\n",
        "# take the argmax for each set of prediction scores\n",
        "# to return the class id of the highest confidence prediction\n",
        "top_pred_ids = test_predictions.argmax(axis=1)\n",
        "\n",
        "y_pred = top_pred_ids.reshape(1,-1)\n",
        "y_test = ground_truth_class_ids.reshape(1,-1)\n",
        "# Confusion Matrix\n",
        "\n",
        "from sklearn.metrics import confusion_matrix, ConfusionMatrixDisplay\n",
        "import matplotlib.pyplot as plt\n",
        "\n",
        "cm = confusion_matrix(top_pred_ids, ground_truth_class_ids)\n",
        "disp = ConfusionMatrixDisplay(confusion_matrix=cm,display_labels=flat_class_names)\n",
        "disp.plot()\n",
        "plt.savefig(\"/content/drive/MyDrive/best_model_check_point/best_model.png\")\n",
        "plt.show()"
      ]
    }
  ],
  "metadata": {
    "colab": {
      "provenance": [],
      "machine_shape": "hm",
      "include_colab_link": true
    },
    "kernelspec": {
      "display_name": "Python 3",
      "language": "python",
      "name": "python3"
    },
    "language_info": {
      "codemirror_mode": {
        "name": "ipython",
        "version": 3
      },
      "file_extension": ".py",
      "mimetype": "text/x-python",
      "name": "python",
      "nbconvert_exporter": "python",
      "pygments_lexer": "ipython3",
      "version": "3.7.0"
    },
    "accelerator": "GPU",
    "gpuClass": "standard"
  },
  "nbformat": 4,
  "nbformat_minor": 0
}